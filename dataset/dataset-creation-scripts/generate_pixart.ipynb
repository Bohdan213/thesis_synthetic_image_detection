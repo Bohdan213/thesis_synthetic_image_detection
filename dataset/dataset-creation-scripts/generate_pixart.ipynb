{
 "cells": [
  {
   "cell_type": "code",
   "execution_count": null,
   "metadata": {},
   "outputs": [],
   "source": [
    "! pip install -q huggingface_hub"
   ]
  },
  {
   "cell_type": "code",
   "execution_count": null,
   "metadata": {},
   "outputs": [],
   "source": [
    "from huggingface_hub import login\n",
    "\n",
    "login(token=\"\")\n"
   ]
  },
  {
   "cell_type": "markdown",
   "metadata": {},
   "source": [
    "### Clean GPU memory"
   ]
  },
  {
   "cell_type": "code",
   "execution_count": null,
   "metadata": {},
   "outputs": [],
   "source": [
    "import gc\n",
    "import torch\n",
    "\n",
    "def clean_memory():\n",
    "    gc.collect()\n",
    "    \n",
    "    torch.cuda.empty_cache()"
   ]
  },
  {
   "cell_type": "code",
   "execution_count": null,
   "metadata": {},
   "outputs": [],
   "source": [
    "clean_memory()"
   ]
  },
  {
   "cell_type": "markdown",
   "metadata": {},
   "source": [
    "### Images classes"
   ]
  },
  {
   "cell_type": "code",
   "execution_count": null,
   "metadata": {},
   "outputs": [],
   "source": [
    "topics = [\n",
    "    {\"id\": 1, \"topic\": \"A protester holding a sign in front of a government building\", \"group\": \"Political & Government-Related Scenes\"},\n",
    "    {\"id\": 2, \"topic\": \"Several politicians arguing in parliament\", \"group\": \"Political & Government-Related Scenes\"},\n",
    "    {\"id\": 3, \"topic\": \"A lawyer defending a client in a courtroom\", \"group\": \"Political & Government-Related Scenes\"},\n",
    "    {\"id\": 4, \"topic\": \"A politician speaking at a press conference with expressions\", \"group\": \"Political & Government-Related Scenes\"},\n",
    "    {\"id\": 5, \"topic\": \"A politician surrounded by bodyguards in a crowd\", \"group\": \"Political & Government-Related Scenes\"},\n",
    "    {\"id\": 6, \"topic\": \"A politician visiting a disaster-stricken area\", \"group\": \"Political & Government-Related Scenes\"},\n",
    "    {\"id\": 7, \"topic\": \"A press conference with microphones and reporters\", \"group\": \"Political & Government-Related Scenes\"},\n",
    "    {\"id\": 8, \"topic\": \"A politician giving a speech\", \"group\": \"Political & Government-Related Scenes\"},\n",
    "    {\"id\": 9, \"topic\": \"Election debates with lots of flags\", \"group\": \"Political & Government-Related Scenes\"},\n",
    "    {\"id\": 10, \"topic\": \"A diplomat shaking hands with foreign officials\", \"group\": \"Political & Government-Related Scenes\"},\n",
    "\n",
    "    {\"id\": 11, \"topic\": \"A scientist discovering a new element in a laboratory\", \"group\": \"Science & Technology-Related Scenes\"},\n",
    "    {\"id\": 12, \"topic\": \"A robot being tested in a lab\", \"group\": \"Science & Technology-Related Scenes\"},\n",
    "    {\"id\": 13, \"topic\": \"A laboratory with scientists working on a mysterious virus\", \"group\": \"Science & Technology-Related Scenes\"},\n",
    "    {\"id\": 14, \"topic\": \"A woman receiving a vaccine at a public clinic\", \"group\": \"Science & Technology-Related Scenes\"},\n",
    "    {\"id\": 15, \"topic\": \"A rocket launching into the night sky\", \"group\": \"Science & Technology-Related Scenes\"},\n",
    "    {\"id\": 16, \"topic\": \"A technician repairing an advanced computer system\", \"group\": \"Science & Technology-Related Scenes\"},\n",
    "    {\"id\": 17, \"topic\": \"A group of engineers assembling a satellite\", \"group\": \"Science & Technology-Related Scenes\"},\n",
    "    {\"id\": 18, \"topic\": \"A biologist studying wildlife in a forest research facility\", \"group\": \"Science & Technology-Related Scenes\"},\n",
    "    {\"id\": 19, \"topic\": \"A physicist conducting a nuclear experiment\", \"group\": \"Science & Technology-Related Scenes\"},\n",
    "    {\"id\": 20, \"topic\": \"A flying car as a taxi\", \"group\": \"Science & Technology-Related Scenes\"},\n",
    "\n",
    "    {\"id\": 21, \"topic\": \"A military plane flying over a skyscraper\", \"group\": \"Military & Law Enforcement Scenes\"},\n",
    "    {\"id\": 22, \"topic\": \"A military convoy moving through a destroyed city\", \"group\": \"Military & Law Enforcement Scenes\"},\n",
    "    {\"id\": 23, \"topic\": \"A police officer escort a man\", \"group\": \"Military & Law Enforcement Scenes\"},\n",
    "    {\"id\": 24, \"topic\": \"A law enforcement operation involving the seizure of illegal substances\", \"group\": \"Military & Law Enforcement Scenes\"},\n",
    "    {\"id\": 25, \"topic\": \"A military parade with flags\", \"group\": \"Military & Law Enforcement Scenes\"},\n",
    "    {\"id\": 26, \"topic\": \"Soldiers patrolling an empty city street\", \"group\": \"Military & Law Enforcement Scenes\"},\n",
    "    {\"id\": 27, \"topic\": \"A group of masked individuals gathered in a dark alley\", \"group\": \"Military & Law Enforcement Scenes\"},\n",
    "    {\"id\": 28, \"topic\": \"A large cargo ship stuck near a port\", \"group\": \"Military & Law Enforcement Scenes\"},\n",
    "    {\"id\": 29, \"topic\": \"Warships with flags in port\", \"group\": \"Military & Law Enforcement Scenes\"},\n",
    "    {\"id\": 30, \"topic\": \"A police officer chasing a suspect through a dark alley\", \"group\": \"Military & Law Enforcement Scenes\"},\n",
    "\n",
    "    {\"id\": 31, \"topic\": \"Explosion on a ship\", \"group\": \"Natural Disasters & Emergency Situations\"},\n",
    "    {\"id\": 32, \"topic\": \"A massive storm approaching a coastal city\", \"group\": \"Natural Disasters & Emergency Situations\"},\n",
    "    {\"id\": 33, \"topic\": \"A rescue worker saving people from a flood\", \"group\": \"Natural Disasters & Emergency Situations\"},\n",
    "    {\"id\": 34, \"topic\": \"A flooded city street\", \"group\": \"Natural Disasters & Emergency Situations\"},\n",
    "    {\"id\": 35, \"topic\": \"A tornado forming near a small town\", \"group\": \"Natural Disasters & Emergency Situations\"},\n",
    "    {\"id\": 36, \"topic\": \"A wildfire spreading towards houses\", \"group\": \"Natural Disasters & Emergency Situations\"},\n",
    "    {\"id\": 37, \"topic\": \"A plane making an emergency landing on a highway\", \"group\": \"Natural Disasters & Emergency Situations\"},\n",
    "    {\"id\": 38, \"topic\": \"A fireman rescuing someone from a burning building\", \"group\": \"Natural Disasters & Emergency Situations\"},\n",
    "    {\"id\": 39, \"topic\": \"A group of people fleeing a collapsing building during an earthquake\", \"group\": \"Natural Disasters & Emergency Situations\"},\n",
    "    {\"id\": 40, \"topic\": \"A team of rescuers helping injured people during a landslide\", \"group\": \"Natural Disasters & Emergency Situations\"},\n",
    "\n",
    "    {\"id\": 41, \"topic\": \"A group of people fighting over food in a supermarket\", \"group\": \"Social & Economic Scenes\"},\n",
    "    {\"id\": 42, \"topic\": \"A long queue of people outside a bank during an economic crisis\", \"group\": \"Social & Economic Scenes\"},\n",
    "    {\"id\": 43, \"topic\": \"A gas station with people rushing to fill their cars\", \"group\": \"Social & Economic Scenes\"},\n",
    "    {\"id\": 44, \"topic\": \"A pharmacy running out of medicine with empty shelves\", \"group\": \"Social & Economic Scenes\"},\n",
    "    {\"id\": 45, \"topic\": \"A supermarket with empty shelves\", \"group\": \"Social & Economic Scenes\"},\n",
    "    {\"id\": 46, \"topic\": \"A man waiting in line to get free food at a relief center\", \"group\": \"Social & Economic Scenes\"},\n",
    "    {\"id\": 47, \"topic\": \"People standing in line at a job fair in an economic downturn\", \"group\": \"Social & Economic Scenes\"},\n",
    "    {\"id\": 48, \"topic\": \"A homeless person sitting on the sidewalk near a busy street\", \"group\": \"Social & Economic Scenes\"},\n",
    "    {\"id\": 49, \"topic\": \"A heated argument between social groups\", \"group\": \"Social & Economic Scenes\"},\n",
    "    {\"id\": 50, \"topic\": \"A group of workers protesting inside a factory demanding better wages\", \"group\": \"Social & Economic Scenes\"},\n",
    "\n",
    "    {\"id\": 51, \"topic\": \"A car crash accident\", \"group\": \"Accidents\"},\n",
    "    {\"id\": 52, \"topic\": \"A traffic jam on a highway\", \"group\": \"Accidents\"},\n",
    "    {\"id\": 53, \"topic\": \"An empty airport terminal\", \"group\": \"Accidents\"},\n",
    "    {\"id\": 54, \"topic\": \"A train stopped on the tracks due to a sudden breakdown\", \"group\": \"Accidents\"},\n",
    "    {\"id\": 55, \"topic\": \"A pedestrian being rescued from an overturned vehicle\", \"group\": \"Accidents\"},\n",
    "    {\"id\": 56, \"topic\": \"A firefighter carrying an injured person from a collapsed building\", \"group\": \"Accidents\"},\n",
    "    {\"id\": 57, \"topic\": \"A team of emergency responders at a crashed plane site\", \"group\": \"Accidents\"},\n",
    "    {\"id\": 58, \"topic\": \"A broken bridge causing traffic delays\", \"group\": \"Accidents\"},\n",
    "    {\"id\": 59, \"topic\": \"A paramedic performing CPR on a patient\", \"group\": \"Accidents\"},\n",
    "    {\"id\": 60, \"topic\": \"A rescue team searching through rubble for survivors\", \"group\": \"Accidents\"},\n",
    "\n",
    "    {\"id\": 61, \"topic\": \"A beach covered in plastic waste\", \"group\": \"Environmental & Ecological Scenes\"},\n",
    "    {\"id\": 62, \"topic\": \"A wind farm with a broken turbine\", \"group\": \"Environmental & Ecological Scenes\"},\n",
    "    {\"id\": 63, \"topic\": \"A forest devastated by illegal logging\", \"group\": \"Environmental & Ecological Scenes\"},\n",
    "    {\"id\": 64, \"topic\": \"A polluted river with floating debris\", \"group\": \"Environmental & Ecological Scenes\"},\n",
    "    {\"id\": 65, \"topic\": \"A scientist examining the effects of pollution on marine life\", \"group\": \"Environmental & Ecological Scenes\"},\n",
    "    {\"id\": 66, \"topic\": \"A wildlife sanctuary for endangered species\", \"group\": \"Environmental & Ecological Scenes\"},\n",
    "    {\"id\": 67, \"topic\": \"A factory that emits a large amount of carbon into the atmosphere\", \"group\": \"Environmental & Ecological Scenes\"},\n",
    "    {\"id\": 68, \"topic\": \"A community planting trees to combat deforestation\", \"group\": \"Environmental & Ecological Scenes\"},\n",
    "    {\"id\": 69, \"topic\": \"A group of activists protesting for cleaner air\", \"group\": \"Environmental & Ecological Scenes\"},\n",
    "    {\"id\": 70, \"topic\": \"A deforested area being reforested with new trees\", \"group\": \"Environmental & Ecological Scenes\"},\n",
    "\n",
    "    {\"id\": 71, \"topic\": \"A stadium filled with fans waving flags and flares\", \"group\": \"Sports & Entertainment Scenes\"},\n",
    "    {\"id\": 72, \"topic\": \"A boxing match moment where the referee begins the count\", \"group\": \"Sports & Entertainment Scenes\"},\n",
    "    {\"id\": 73, \"topic\": \"A soccer match with players celebrating a goal\", \"group\": \"Sports & Entertainment Scenes\"},\n",
    "    {\"id\": 74, \"topic\": \"A basketball player dunking during a game\", \"group\": \"Sports & Entertainment Scenes\"},\n",
    "    {\"id\": 75, \"topic\": \"A tennis match with players exchanging intense volleys\", \"group\": \"Sports & Entertainment Scenes\"},\n",
    "    {\"id\": 76, \"topic\": \"A racing car speeding through a track\", \"group\": \"Sports & Entertainment Scenes\"},\n",
    "    {\"id\": 77, \"topic\": \"A football team celebrating a championship victory\", \"group\": \"Sports & Entertainment Scenes\"},\n",
    "    {\"id\": 78, \"topic\": \"A figure skater performing a graceful routine on the ice\", \"group\": \"Sports & Entertainment Scenes\"},\n",
    "    {\"id\": 79, \"topic\": \"A swimmers diving into the pool\", \"group\": \"Sports & Entertainment Scenes\"},\n",
    "    {\"id\": 80, \"topic\": \"A marathon race with runners crossing the finish line\", \"group\": \"Sports & Entertainment Scenes\"},\n",
    "\n",
    "    {\"id\": 81, \"topic\": \"A spaceship landing in a rural area\", \"group\": \"Futuristic & Sci-Fi Scenes\"},\n",
    "    {\"id\": 82, \"topic\": \"A futuristic city skyline with flying cars\", \"group\": \"Futuristic & Sci-Fi Scenes\"},\n",
    "    {\"id\": 83, \"topic\": \"A scientist operating a high-tech virtual reality system\", \"group\": \"Futuristic & Sci-Fi Scenes\"},\n",
    "    {\"id\": 84, \"topic\": \"A futuristic vehicle driving on a road in a dystopian world\", \"group\": \"Futuristic & Sci-Fi Scenes\"},\n",
    "    {\"id\": 85, \"topic\": \"A cyborg soldier patrolling a high-tech city\", \"group\": \"Futuristic & Sci-Fi Scenes\"},\n",
    "    {\"id\": 86, \"topic\": \"A robotic assistant helping with household chores\", \"group\": \"Futuristic & Sci-Fi Scenes\"},\n",
    "    {\"id\": 87, \"topic\": \"A virtual reality game being played in a futuristic arcade\", \"group\": \"Futuristic & Sci-Fi Scenes\"},\n",
    "    {\"id\": 88, \"topic\": \"An astronaut walking on the surface of an alien planet\", \"group\": \"Futuristic & Sci-Fi Scenes\"},\n",
    "    {\"id\": 89, \"topic\": \"A space station orbiting Earth\", \"group\": \"Futuristic & Sci-Fi Scenes\"},\n",
    "    {\"id\": 90, \"topic\": \"A colony of humans living on Mars\", \"group\": \"Futuristic & Sci-Fi Scenes\"},\n",
    "\n",
    "    {\"id\": 91, \"topic\": \"A rare animal species spotted in an urban park\", \"group\": \"Wildlife & Nature Scenes\"},\n",
    "    {\"id\": 92, \"topic\": \"A family of elephants crossing a river in the savannah\", \"group\": \"Wildlife & Nature Scenes\"},\n",
    "    {\"id\": 93, \"topic\": \"A bird of prey hunting in a forest\", \"group\": \"Wildlife & Nature Scenes\"},\n",
    "    {\"id\": 94, \"topic\": \"A lion resting under the shade of a tree\", \"group\": \"Wildlife & Nature Scenes\"},\n",
    "    {\"id\": 95, \"topic\": \"A whale breaching the surface of the ocean\", \"group\": \"Wildlife & Nature Scenes\"},\n",
    "    {\"id\": 96, \"topic\": \"A butterfly resting on a flower in a meadow\", \"group\": \"Wildlife & Nature Scenes\"},\n",
    "    {\"id\": 97, \"topic\": \"A crocodile sunbathing by the riverbank\", \"group\": \"Wildlife & Nature Scenes\"},\n",
    "    {\"id\": 98, \"topic\": \"A tiger hunting in a dense jungle\", \"group\": \"Wildlife & Nature Scenes\"},\n",
    "    {\"id\": 99, \"topic\": \"A herd of bison grazing on a prairie\", \"group\": \"Wildlife & Nature Scenes\"},\n",
    "    {\"id\": 100, \"topic\": \"A wolf pack tracking prey through the snow\", \"group\": \"Wildlife & Nature Scenes\"}\n",
    "]"
   ]
  },
  {
   "cell_type": "markdown",
   "metadata": {},
   "source": [
    "### Load model"
   ]
  },
  {
   "cell_type": "code",
   "execution_count": null,
   "metadata": {},
   "outputs": [],
   "source": [
    "from diffusers import PixArtAlphaPipeline\n",
    "import torch\n",
    "\n",
    "pipe = PixArtAlphaPipeline.from_pretrained(\"PixArt-alpha/PixArt-XL-2-1024-MS\", torch_dtype=torch.float16)\n",
    "pipe = pipe.to(\"cuda\")\n"
   ]
  },
  {
   "cell_type": "code",
   "execution_count": null,
   "metadata": {},
   "outputs": [],
   "source": [
    "! mkdir PixArt-XL-2-1024-MS"
   ]
  },
  {
   "cell_type": "code",
   "execution_count": null,
   "metadata": {},
   "outputs": [],
   "source": [
    "pipe.set_progress_bar_config(disable=True)\n",
    "\n",
    "from tqdm import tqdm\n",
    "\n",
    "for idx in range(10):\n",
    "    for image_class in tqdm(topics):\n",
    "        \n",
    "        prompt = image_class[\"topic\"] + \", photography, professional, photo\"\n",
    "        \n",
    "        image = pipe(prompt=prompt, negative_prompt=\"painting, drawing, illustration, low quality\", clean_caption=False, guidance_scale=5.0).images[0]\n",
    "        \n",
    "        # import matplotlib.pyplot as plt\n",
    "        \n",
    "        # plt.imshow(image)\n",
    "        # plt.axis(\"off\")\n",
    "        # plt.show()\n",
    "        clean_memory()\n",
    "        image.save(f'PixArt-XL-2-1024-MS/class_{image_class[\"id\"]}_id_{idx}.png')\n"
   ]
  }
 ],
 "metadata": {
  "language_info": {
   "name": "python"
  }
 },
 "nbformat": 4,
 "nbformat_minor": 2
}
