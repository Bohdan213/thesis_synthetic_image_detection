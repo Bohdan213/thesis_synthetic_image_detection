{
 "cells": [
  {
   "cell_type": "code",
   "execution_count": null,
   "metadata": {
    "_cell_guid": "b1076dfc-b9ad-4769-8c92-a6c4dae69d19",
    "_uuid": "8f2839f25d086af736a60e9eeb907d3b93b6e0e5",
    "execution": {
     "iopub.execute_input": "2025-04-26T20:41:20.207388Z",
     "iopub.status.busy": "2025-04-26T20:41:20.207023Z",
     "iopub.status.idle": "2025-04-26T20:41:20.214060Z",
     "shell.execute_reply": "2025-04-26T20:41:20.213107Z",
     "shell.execute_reply.started": "2025-04-26T20:41:20.207363Z"
    },
    "trusted": true
   },
   "outputs": [],
   "source": [
    "import torch\n",
    "import torch.nn as nn\n",
    "import torch.optim as optim\n",
    "import torch.optim.lr_scheduler as lr_scheduler\n",
    "import torch.nn.functional as F\n",
    "from torch.utils.data import DataLoader, Dataset\n",
    "\n",
    "from torchvision import transforms, models\n",
    "from torchvision.transforms.v2 import JPEG, RandomApply,GaussianBlur\n",
    "from torchvision.transforms import InterpolationMode\n",
    "\n",
    "from PIL import Image\n",
    "from tqdm import tqdm\n",
    "import numpy as np\n",
    "import matplotlib.pyplot as plt\n",
    "import timm\n",
    "\n",
    "import os\n",
    "import random\n",
    "\n",
    "from sklearn.metrics import classification_report, precision_recall_curve, average_precision_score\n",
    "from sklearn.metrics import precision_score, recall_score"
   ]
  },
  {
   "cell_type": "markdown",
   "metadata": {},
   "source": [
    "### Set up seed for reproducibility"
   ]
  },
  {
   "cell_type": "code",
   "execution_count": null,
   "metadata": {
    "execution": {
     "iopub.execute_input": "2025-04-26T20:41:20.215754Z",
     "iopub.status.busy": "2025-04-26T20:41:20.215327Z",
     "iopub.status.idle": "2025-04-26T20:41:20.236142Z",
     "shell.execute_reply": "2025-04-26T20:41:20.235501Z",
     "shell.execute_reply.started": "2025-04-26T20:41:20.215735Z"
    },
    "trusted": true
   },
   "outputs": [],
   "source": [
    "DEFAULT_RANDOM_SEED = 2003\n",
    "\n",
    "def seedBasic(seed=DEFAULT_RANDOM_SEED):\n",
    "    random.seed(seed)\n",
    "    os.environ['PYTHONHASHSEED'] = str(seed)\n",
    "    np.random.seed(seed)\n",
    "    \n",
    "def seedTorch(seed=DEFAULT_RANDOM_SEED):\n",
    "    torch.manual_seed(seed)\n",
    "    torch.cuda.manual_seed(seed)\n",
    "    torch.cuda.manual_seed_all(seed)\n",
    "    torch.backends.cudnn.deterministic = True\n",
    "    torch.backends.cudnn.benchmark = False\n",
    "\n",
    "\n",
    "seedBasic(DEFAULT_RANDOM_SEED)\n",
    "seedTorch(DEFAULT_RANDOM_SEED)"
   ]
  },
  {
   "cell_type": "markdown",
   "metadata": {},
   "source": [
    "### Set up configurations for trainin and/or evaluation"
   ]
  },
  {
   "cell_type": "code",
   "execution_count": null,
   "metadata": {
    "execution": {
     "iopub.execute_input": "2025-04-26T20:41:20.237054Z",
     "iopub.status.busy": "2025-04-26T20:41:20.236836Z",
     "iopub.status.idle": "2025-04-26T20:41:20.252705Z",
     "shell.execute_reply": "2025-04-26T20:41:20.252003Z",
     "shell.execute_reply.started": "2025-04-26T20:41:20.237019Z"
    },
    "trusted": true
   },
   "outputs": [],
   "source": [
    "SYNCLR_PATH = \"\" # if path is valid - use SynClr, othervise - DinoV2\n",
    "\n",
    "PRETRAINED_CPT = \"foundation_backbone_dinov2_sd14.pth\" # init weights will be used if pretrained_checkpoint is invalid\n",
    "TEST = True # Should model be tested? if pretrained_checkpoint is invalid and TRAIN is False - init weights will be used\n",
    "TRAIN = True # Should model be trained? Disable if you are interested only in evaluation\n",
    "\n",
    "# Set the number of test images for each class, but if the actual number of images is less than TEST_SIZE, actual number will be used.\n",
    "TEST_SIZE = 6_000\n",
    "\n",
    "# Enable or disable training augmentations\n",
    "TRAIN_AUG = True\n",
    "# JPEG compression uniform distribution range\n",
    "JPEG_INTERVAL_TRAIN = (90, 100)\n",
    "# Gaussian blur uniform distribution range\n",
    "BLUR_INTERVAL_TRAIN = (0.1, 1)\n",
    "# Probability for applying each training augmentation\n",
    "AUG_PROB = 0.1\n",
    "\n",
    "# Use 100% JPEG compression for the test set or not\n",
    "TEST_AUG_JPEG = False\n",
    "# Use 100% Gaussian blur for the test set or not\n",
    "TEST_AUG_BLUR = False\n",
    "# JPEG compression quality for the test set; applied only if TEST_AUG_JPEG = True\n",
    "JPEG_LEVEL_TEST = 90\n",
    "# Gaussian blur sigma level for the test set; applied only if TEST_AUG_BLUR = True\n",
    "BLUR_LEVEL_TEST = 1\n",
    "# Whether precision-recall curves should be plotted and saved in the /curves folder\n",
    "VISUALISE_CURVES = True\n",
    "\n",
    "# training setup\n",
    "BATCH_SIZE = 64\n",
    "EPOCH_NUM = 1\n",
    "LEARNING_RATE = 0.0001\n",
    "\n",
    "# Dataset directory, with all generators sets in GenImage format. Example:\n",
    "# - dataset\n",
    "#\n",
    "# -- imagenet-ai-0419-sdv4\n",
    "#\n",
    "# --- val\n",
    "# ---- ai\n",
    "# ---- nature\n",
    "# --- train\n",
    "# ---- ai\n",
    "# ---- nature\n",
    "#\n",
    "# -- imagen3\n",
    "# --- val\n",
    "# ---- ai\n",
    "# ---- nature\n",
    "DATASET_DIR = \"dataset\"\n",
    "\n",
    "# folder with training set\n",
    "TRAIN_DATASET = \"imagenet-ai-0419-sdv4\"\n",
    "\n",
    "# set up a dictionary where the keys are the folder names in DATASET_DIR, and the values are True or False (indicating whether the folder should be evaluated).\n",
    "TEST_DATASETS = {\n",
    "    \"imagen3\": True,\n",
    "    \"SDXL1\": True,\n",
    "    \"FLUX1-dev\": True,\n",
    "    \"PixArt-XL-2-1024-MS\": True,\n",
    "    \"imagenet-midjourney\": True,\n",
    "    \"imagenet-ai-0419-sdv4\": True,\n",
    "    \"imagenet-ai-0424-sdv5\": True,\n",
    "    \"adm-genimage-test\": True,\n",
    "    \"imagenet-glide\": True,\n",
    "    \"wukong-dataset-test\": True,\n",
    "    \"vqdm-test-dataset\": True,\n",
    "    \"bigger-dataset-test\": True\n",
    "}\n",
    "\n",
    "DEVICE = torch.device(\"cuda\" if torch.cuda.is_available() else \"cpu\")"
   ]
  },
  {
   "cell_type": "markdown",
   "metadata": {},
   "source": [
    "### Datasets"
   ]
  },
  {
   "cell_type": "code",
   "execution_count": null,
   "metadata": {
    "execution": {
     "iopub.execute_input": "2025-04-26T20:41:20.254508Z",
     "iopub.status.busy": "2025-04-26T20:41:20.254317Z",
     "iopub.status.idle": "2025-04-26T20:41:20.272282Z",
     "shell.execute_reply": "2025-04-26T20:41:20.271527Z",
     "shell.execute_reply.started": "2025-04-26T20:41:20.254493Z"
    },
    "trusted": true
   },
   "outputs": [],
   "source": [
    "class TrainDataset(Dataset):\n",
    "    \"\"\"\n",
    "    Dataset object for training set\n",
    "    \"\"\"\n",
    "    def __init__(self, model_name):\n",
    "        self.paths = []\n",
    "        self.model_name = model_name\n",
    "        self.get_paths()\n",
    "        \n",
    "        self.image_transform = transforms.Compose([\n",
    "            transforms.Resize((256, 256)),\n",
    "            transforms.RandomCrop((224, 224)),\n",
    "            transforms.RandomHorizontalFlip(),\n",
    "            transforms.ToTensor(),\n",
    "            transforms.Normalize(mean=[0.485, 0.456, 0.406], std=[0.229, 0.224, 0.225])\n",
    "        ])\n",
    "        \n",
    "        self.jpeg_augmentation = JPEG(quality=JPEG_INTERVAL_TRAIN)\n",
    "        self.blur = GaussianBlur(kernel_size=5, sigma=BLUR_INTERVAL_TRAIN)\n",
    "        \n",
    "    def __len__(self):\n",
    "        return len(self.paths)\n",
    "    \n",
    "    def __getitem__(self, index):\n",
    "        path, image_label = self.paths[index]\n",
    "        \n",
    "        image = Image.open(path).convert('RGB')\n",
    "\n",
    "        if TRAIN_AUG:\n",
    "            if random.random() < AUG_PROB:\n",
    "                image = self.jpeg_augmentation(image)\n",
    "            if random.random() < AUG_PROB:\n",
    "                image = self.blur(image)\n",
    "\n",
    "        if self.image_transform:\n",
    "            image = self.image_transform(image)\n",
    "        \n",
    "        return image, image_label\n",
    "\n",
    "    def get_paths(self):\n",
    "        \"\"\"\n",
    "        Extract paths from the generator's training set\n",
    "        \"\"\"\n",
    "        ai_paths_test = os.listdir(os.path.join(DATASET_DIR, self.model_name, \"train/ai\"))\n",
    "        ai_paths_test = [(os.path.join(DATASET_DIR, self.model_name, \"train/ai\", path), 1) for path in ai_paths_test]\n",
    "        \n",
    "        real_paths_test = os.listdir(os.path.join(DATASET_DIR, self.model_name, \"train/nature\"))\n",
    "        real_paths_test = [(os.path.join(DATASET_DIR, self.model_name, \"train/nature\", path), 0) for path in real_paths_test]\n",
    "\n",
    "        self.paths = ai_paths_test + real_paths_test"
   ]
  },
  {
   "cell_type": "code",
   "execution_count": null,
   "metadata": {
    "execution": {
     "iopub.execute_input": "2025-04-26T20:41:20.273156Z",
     "iopub.status.busy": "2025-04-26T20:41:20.272924Z",
     "iopub.status.idle": "2025-04-26T20:41:20.293177Z",
     "shell.execute_reply": "2025-04-26T20:41:20.292503Z",
     "shell.execute_reply.started": "2025-04-26T20:41:20.273140Z"
    },
    "trusted": true
   },
   "outputs": [],
   "source": [
    "class TestDataset(Dataset):\n",
    "    \"\"\"\n",
    "    Dataset object for test set\n",
    "    \"\"\"\n",
    "    def __init__(self, model_name):\n",
    "        self.paths = []\n",
    "        self.model_name = model_name\n",
    "        self.get_paths()\n",
    "        \n",
    "        self.image_transform = transforms.Compose([\n",
    "            transforms.Resize((256, 256)),\n",
    "            transforms.RandomCrop((224, 224)),\n",
    "            transforms.ToTensor(),\n",
    "            transforms.Normalize(mean=[0.485, 0.456, 0.406], std=[0.229, 0.224, 0.225])\n",
    "        ])\n",
    "        \n",
    "        self.jpeg_augmentation = JPEG(quality=JPEG_LEVEL_TEST)\n",
    "        self.blur = GaussianBlur(kernel_size=5, sigma=BLUR_LEVEL_TEST)\n",
    "        \n",
    "    def __len__(self):\n",
    "        return len(self.paths)\n",
    "    \n",
    "    def __getitem__(self, index):\n",
    "        path, image_label = self.paths[index]\n",
    "        \n",
    "        image = Image.open(path).convert('RGB')\n",
    "\n",
    "        if TEST_AUG_JPEG:\n",
    "            image = self.jpeg_augmentation(image)\n",
    "        if TEST_AUG_BLUR:\n",
    "            image = self.blur(image)\n",
    "\n",
    "        if self.image_transform:\n",
    "            image = self.image_transform(image)\n",
    "        \n",
    "        return image, image_label\n",
    "\n",
    "    def get_paths(self):\n",
    "        \"\"\"\n",
    "        Extract paths from the generator's test set\n",
    "        \"\"\"\n",
    "        ai_paths_test = os.listdir(os.path.join(DATASET_DIR, self.model_name, \"val/ai\"))\n",
    "        ai_paths_test = [(os.path.join(DATASET_DIR, self.model_name, \"val/ai\", path), 1) for path in ai_paths_test]\n",
    "        \n",
    "        real_paths_test = os.listdir(os.path.join(DATASET_DIR, self.model_name, \"val/nature\"))\n",
    "        real_paths_test = [(os.path.join(DATASET_DIR, self.model_name, \"val/nature\", path), 0) for path in real_paths_test]\n",
    "\n",
    "        self.paths = ai_paths_test[:TEST_SIZE] + real_paths_test[:TEST_SIZE]"
   ]
  },
  {
   "cell_type": "markdown",
   "metadata": {},
   "source": [
    "## Create datasets and loaders"
   ]
  },
  {
   "cell_type": "code",
   "execution_count": null,
   "metadata": {
    "execution": {
     "iopub.execute_input": "2025-04-26T20:41:20.294060Z",
     "iopub.status.busy": "2025-04-26T20:41:20.293841Z",
     "iopub.status.idle": "2025-04-26T20:41:22.243072Z",
     "shell.execute_reply": "2025-04-26T20:41:22.242242Z",
     "shell.execute_reply.started": "2025-04-26T20:41:20.294018Z"
    },
    "trusted": true
   },
   "outputs": [],
   "source": [
    "train_dataset = TrainDataset(TRAIN_DATASET)\n",
    "test_datasets = []\n",
    "for key, value in TEST_DATASETS.items():\n",
    "    if value:\n",
    "        test_datasets.append((TestDataset(key), key))"
   ]
  },
  {
   "cell_type": "code",
   "execution_count": null,
   "metadata": {
    "execution": {
     "iopub.execute_input": "2025-04-26T20:41:22.245141Z",
     "iopub.status.busy": "2025-04-26T20:41:22.244861Z",
     "iopub.status.idle": "2025-04-26T20:41:22.297553Z",
     "shell.execute_reply": "2025-04-26T20:41:22.296758Z",
     "shell.execute_reply.started": "2025-04-26T20:41:22.245123Z"
    },
    "trusted": true
   },
   "outputs": [],
   "source": [
    "train_loader = DataLoader(train_dataset, batch_size=BATCH_SIZE, shuffle=True, num_workers=4)\n",
    "test_loaders = [(DataLoader(test_dataset, batch_size=BATCH_SIZE, shuffle=False, num_workers=4), name) for test_dataset, name in test_datasets]"
   ]
  },
  {
   "cell_type": "markdown",
   "metadata": {},
   "source": [
    "## Set up models"
   ]
  },
  {
   "cell_type": "code",
   "execution_count": null,
   "metadata": {
    "execution": {
     "iopub.execute_input": "2025-04-26T20:41:22.298616Z",
     "iopub.status.busy": "2025-04-26T20:41:22.298387Z",
     "iopub.status.idle": "2025-04-26T20:41:22.314236Z",
     "shell.execute_reply": "2025-04-26T20:41:22.313689Z",
     "shell.execute_reply.started": "2025-04-26T20:41:22.298599Z"
    },
    "trusted": true
   },
   "outputs": [],
   "source": [
    "def load_dinoV2():\n",
    "    \"\"\"\n",
    "    Load pre-trained DINOv2 model's weights based on vit-l14 architecture from torch.hub\n",
    "    \"\"\"\n",
    "    backbone_model_real = torch.hub.load(\"facebookresearch/dinov2\", \"dinov2_vitl14\", pretrained=True)\n",
    "    \n",
    "    for param in backbone_model_real.parameters():\n",
    "        param.requires_grad = False\n",
    "    \n",
    "    backbone_model_real.to(DEVICE)\n",
    "    print(\"DinoV2 loaded\")\n",
    "\n",
    "    return backbone_model_real"
   ]
  },
  {
   "cell_type": "code",
   "execution_count": null,
   "metadata": {
    "execution": {
     "iopub.execute_input": "2025-04-26T20:41:22.315326Z",
     "iopub.status.busy": "2025-04-26T20:41:22.315056Z",
     "iopub.status.idle": "2025-04-26T20:41:22.333686Z",
     "shell.execute_reply": "2025-04-26T20:41:22.333069Z",
     "shell.execute_reply.started": "2025-04-26T20:41:22.315301Z"
    },
    "trusted": true
   },
   "outputs": [],
   "source": [
    "def load_synclr():\n",
    "    \"\"\"\n",
    "    Load pre-trained SynCLR model's weights based on vit-l14 architecture from local file\n",
    "    \"\"\"\n",
    "    backbone_model_syn = timm.create_model('vit_large_patch14_224', pretrained=False, num_classes=0)\n",
    "\n",
    "    checkpoint = torch.load(SYNCLR_PATH, map_location=DEVICE)\n",
    "    state_dict = checkpoint.get('model', checkpoint)\n",
    "    \n",
    "    def remove_module_prefix(state_dict):\n",
    "        return {k.replace(\"module.visual.\", \"\"): v for k, v in state_dict.items()}\n",
    "    \n",
    "    state_dict = remove_module_prefix(state_dict)\n",
    "    backbone_model_syn.load_state_dict(state_dict, strict=False)\n",
    "    \n",
    "    for param in backbone_model_syn.parameters():\n",
    "        param.requires_grad = False\n",
    "    \n",
    "    backbone_model_syn.to(DEVICE)\n",
    "    \n",
    "    print(\"Synclr loaded\")\n",
    "\n",
    "    return backbone_model_syn"
   ]
  },
  {
   "cell_type": "markdown",
   "metadata": {},
   "source": [
    "### Load foundation model based on config setup"
   ]
  },
  {
   "cell_type": "code",
   "execution_count": null,
   "metadata": {
    "execution": {
     "iopub.execute_input": "2025-04-26T20:41:22.334685Z",
     "iopub.status.busy": "2025-04-26T20:41:22.334452Z",
     "iopub.status.idle": "2025-04-26T20:41:28.671256Z",
     "shell.execute_reply": "2025-04-26T20:41:28.670531Z",
     "shell.execute_reply.started": "2025-04-26T20:41:22.334660Z"
    },
    "trusted": true
   },
   "outputs": [],
   "source": [
    "import os\n",
    "\n",
    "use_synclr = True\n",
    "if os.path.isfile(SYNCLR_PATH):\n",
    "    try:\n",
    "        print(\"Use SynClr\")\n",
    "        backbone_foundation_model = load_synclr()\n",
    "    except Exception as e:\n",
    "        print(\"While loading SynClr something went wrong\")\n",
    "        print(\"Use DinoV2\")\n",
    "        backbone_foundation_model = load_dinoV2()\n",
    "        use_synclr = False\n",
    "else:\n",
    "    print(\"Use DinoV2\")\n",
    "    backbone_foundation_model = load_dinoV2()\n",
    "    use_synclr = False\n"
   ]
  },
  {
   "cell_type": "markdown",
   "metadata": {},
   "source": [
    "### Define standart implementation for MLP head with GELU activation"
   ]
  },
  {
   "cell_type": "code",
   "execution_count": null,
   "metadata": {
    "execution": {
     "iopub.execute_input": "2025-04-26T20:41:28.672154Z",
     "iopub.status.busy": "2025-04-26T20:41:28.671934Z",
     "iopub.status.idle": "2025-04-26T20:41:28.677625Z",
     "shell.execute_reply": "2025-04-26T20:41:28.677070Z",
     "shell.execute_reply.started": "2025-04-26T20:41:28.672138Z"
    },
    "trusted": true
   },
   "outputs": [],
   "source": [
    "class Mlp(nn.Module):\n",
    "\n",
    "    def __init__(self, in_features, hidden_features=None, out_features=None, act_layer=nn.GELU):\n",
    "        super().__init__()\n",
    "        out_features = out_features or in_features\n",
    "        hidden_features = hidden_features or in_features\n",
    "\n",
    "        self.fc1 = nn.Linear(in_features, hidden_features)\n",
    "        self.act = act_layer()\n",
    "        self.bn1 = nn.BatchNorm1d(hidden_features)\n",
    "        self.fc2 = nn.Sequential(\n",
    "            nn.Linear(hidden_features, out_features),\n",
    "            nn.Sigmoid()\n",
    "        )\n",
    "        \n",
    "    def forward(self, x):\n",
    "        x = self.fc1(x)\n",
    "        x = self.bn1(x)\n",
    "        x = self.act(x)\n",
    "        x = self.fc2(x)\n",
    "        return x"
   ]
  },
  {
   "cell_type": "markdown",
   "metadata": {},
   "source": [
    "### Define one-branch architecture"
   ]
  },
  {
   "cell_type": "code",
   "execution_count": null,
   "metadata": {
    "execution": {
     "iopub.execute_input": "2025-04-26T20:41:28.678382Z",
     "iopub.status.busy": "2025-04-26T20:41:28.678207Z",
     "iopub.status.idle": "2025-04-26T20:41:28.696839Z",
     "shell.execute_reply": "2025-04-26T20:41:28.696170Z",
     "shell.execute_reply.started": "2025-04-26T20:41:28.678368Z"
    },
    "trusted": true
   },
   "outputs": [],
   "source": [
    "class FoundationModelClassifier(nn.Module):\n",
    "\n",
    "    def __init__(self, backbone_foundation_model):\n",
    "        super().__init__()\n",
    "        self.backbone_foundation_model = backbone_foundation_model\n",
    "        self.mlp = Mlp(1024, 512, 1)\n",
    "\n",
    "    def forward(self, x):\n",
    "        features = self.backbone_foundation_model(x)\n",
    "        out = self.mlp(features)\n",
    "        return out"
   ]
  },
  {
   "cell_type": "code",
   "execution_count": null,
   "metadata": {
    "execution": {
     "iopub.execute_input": "2025-04-26T20:41:28.698884Z",
     "iopub.status.busy": "2025-04-26T20:41:28.698696Z",
     "iopub.status.idle": "2025-04-26T20:41:28.713635Z",
     "shell.execute_reply": "2025-04-26T20:41:28.713041Z",
     "shell.execute_reply.started": "2025-04-26T20:41:28.698869Z"
    },
    "trusted": true
   },
   "outputs": [],
   "source": [
    "def save(model, name):\n",
    "    \"\"\"\n",
    "    Save weights, ignore foundation model's weights\n",
    "    \"\"\"\n",
    "    state_dict = model.state_dict()\n",
    "    \n",
    "    filtered_state_dict = {\n",
    "        k: v for k, v in state_dict.items()\n",
    "        if not k.startswith(\"backbone_foundation_model\")\n",
    "    }\n",
    "    \n",
    "    torch.save({\n",
    "        'backbone_foundation_model_classifier': filtered_state_dict\n",
    "    }, f\"foundation_backbone_{name}.pth\")"
   ]
  },
  {
   "cell_type": "code",
   "execution_count": null,
   "metadata": {
    "execution": {
     "iopub.execute_input": "2025-04-26T20:41:28.731792Z",
     "iopub.status.busy": "2025-04-26T20:41:28.731582Z",
     "iopub.status.idle": "2025-04-26T20:41:28.750611Z",
     "shell.execute_reply": "2025-04-26T20:41:28.749803Z",
     "shell.execute_reply.started": "2025-04-26T20:41:28.731776Z"
    },
    "trusted": true
   },
   "outputs": [],
   "source": [
    "def validate(model, test_loaders, visualise_curves=True):\n",
    "    \"\"\"\n",
    "    Validate model on test sets, plot precision-recall curves if needed\n",
    "    \"\"\"\n",
    "    model.eval()\n",
    "    for test, set_name in test_loaders:\n",
    "        correct = 0\n",
    "        total = 0\n",
    "\n",
    "        true_labels = []\n",
    "        predicted_labels = []\n",
    "        probabilities = []\n",
    "\n",
    "        with torch.no_grad():\n",
    "            for images, labels in test:\n",
    "                images, labels = images.to(DEVICE), labels.float().to(DEVICE)\n",
    "                labels = labels.view(-1, 1)\n",
    "                outputs = model(images)\n",
    "                probs = outputs\n",
    "                predicted = (probs >= 0.5).float()\n",
    "\n",
    "                total += labels.size(0)\n",
    "                correct += (predicted == labels).sum().item()\n",
    "\n",
    "                true_labels.append(labels.cpu())\n",
    "                predicted_labels.append(predicted.cpu())\n",
    "                probabilities.append(probs.cpu())\n",
    "\n",
    "        accuracy = 100 * correct / total\n",
    "        print(f\"Validation on {set_name}: Test Accuracy: {accuracy:.2f}%\")\n",
    "\n",
    "        true_labels = torch.cat(true_labels).numpy()\n",
    "        predicted_labels = torch.cat(predicted_labels).numpy()\n",
    "        probabilities = torch.cat(probabilities).numpy()\n",
    "\n",
    "        print(classification_report(true_labels, predicted_labels))\n",
    "\n",
    "        precision, recall, thresholds = precision_recall_curve(true_labels, probabilities)\n",
    "        avg_precision = average_precision_score(true_labels, probabilities)\n",
    "        \n",
    "        if visualise_curves:\n",
    "            threshold_point = 0.5\n",
    "            preds_at_05 = (probabilities >= threshold_point).astype(float)\n",
    "            p_05 = precision_score(true_labels, preds_at_05)\n",
    "            r_05 = recall_score(true_labels, preds_at_05)\n",
    "            \n",
    "            plt.figure()\n",
    "            plt.plot(recall, precision, label=None)\n",
    "            \n",
    "            plt.axvline(x=r_05, color='red', linestyle='--')\n",
    "            \n",
    "            plt.scatter(r_05, p_05, color='red', zorder=5)\n",
    "            \n",
    "            plt.text(0.02, 0.02, f'AP = {avg_precision:.2f}', transform=plt.gca().transAxes,\n",
    "                     fontsize=18, verticalalignment='bottom', horizontalalignment='left',\n",
    "                     bbox=dict(boxstyle='round,pad=0.3', facecolor='white', alpha=0.7))\n",
    "            \n",
    "            plt.xlabel('Recall', fontsize=16)\n",
    "            plt.ylabel('Precision', fontsize=16)\n",
    "            plt.title(f'Precision-Recall curve ({set_name})', fontsize=18)\n",
    "            plt.xticks(fontsize=14)\n",
    "            plt.yticks(fontsize=14)\n",
    "            plt.legend()\n",
    "            plt.grid(True)\n",
    "            \n",
    "            os.makedirs('curves', exist_ok=True)\n",
    "            filename = f'curves/pr_curve_{set_name}.png'\n",
    "            plt.savefig(filename)\n",
    "            plt.close()"
   ]
  },
  {
   "cell_type": "code",
   "execution_count": null,
   "metadata": {
    "trusted": true
   },
   "outputs": [],
   "source": [
    "def train(model, train_loader, optimizer, criterion, scheduler):\n",
    "    \"\"\"\n",
    "    Training code\n",
    "    \"\"\"\n",
    "    for epoch in range(EPOCH_NUM):\n",
    "        model.train()\n",
    "        running_loss = 0.0\n",
    "        correct_train = 0\n",
    "        total_train = 0\n",
    "    \n",
    "        progress_bar = tqdm(train_loader, desc=f\"Epoch {epoch+1}/{EPOCH_NUM}\", leave=True)\n",
    "        \n",
    "        for batch_idx, (images, labels) in enumerate(progress_bar):\n",
    "            images, labels = images.to(DEVICE), labels.to(DEVICE)\n",
    "            labels = labels.float().view(-1, 1)\n",
    "            \n",
    "            optimizer.zero_grad()\n",
    "            outputs = model(images)\n",
    "            loss = criterion(outputs, labels)\n",
    "            loss.backward()\n",
    "            optimizer.step()\n",
    "            \n",
    "            running_loss += loss.item()\n",
    "            predictions = (outputs >= 0.5).float()\n",
    "    \n",
    "            correct_train += (predictions == labels).sum().item()\n",
    "            total_train += labels.size(0)\n",
    "            \n",
    "            progress_bar.set_postfix(loss=f\"{running_loss / (total_train // labels.size(0)):.4f}\", \n",
    "                                     acc=f\"{100 * correct_train / total_train:.2f}%\")\n",
    "    \n",
    "            scheduler.step()\n",
    "\n",
    "        model.eval()\n",
    "        save(model, f\"synclr_epoch_{epoch}\" if use_synclr else f\"dinov2_epoch_{epoch}\")\n",
    "        \n",
    "        print(f\"Epoch [{epoch+1}/{EPOCH_NUM}], Loss: {running_loss/len(train_loader):.4f}\")\n",
    "    \n",
    "    print(\"Training Complete!\")"
   ]
  },
  {
   "cell_type": "code",
   "execution_count": null,
   "metadata": {
    "execution": {
     "iopub.execute_input": "2025-04-26T20:41:28.771251Z",
     "iopub.status.busy": "2025-04-26T20:41:28.770996Z",
     "iopub.status.idle": "2025-04-26T20:41:28.788505Z",
     "shell.execute_reply": "2025-04-26T20:41:28.787703Z",
     "shell.execute_reply.started": "2025-04-26T20:41:28.771234Z"
    },
    "trusted": true
   },
   "outputs": [],
   "source": [
    "def load_cpt(model):\n",
    "    \"\"\"\n",
    "    Load pre-trained weights for proposed architecture\n",
    "    \"\"\"\n",
    "    if os.path.isfile(PRETRAINED_CPT):\n",
    "        try:\n",
    "            print(\"Use pretrained checkpoint\")\n",
    "            checkpoint = torch.load(PRETRAINED_CPT, map_location=DEVICE)\n",
    "            model.load_state_dict(checkpoint[\"backbone_foundation_model_classifier\"], strict=False)\n",
    "            \n",
    "        except Exception as e:\n",
    "            print(\"While loading pretrained checkpoint something went wrong\")\n",
    "    return model"
   ]
  },
  {
   "cell_type": "markdown",
   "metadata": {},
   "source": [
    "### Run train and/or evaluation process"
   ]
  },
  {
   "cell_type": "code",
   "execution_count": null,
   "metadata": {
    "execution": {
     "iopub.execute_input": "2025-04-26T20:41:28.789625Z",
     "iopub.status.busy": "2025-04-26T20:41:28.789403Z",
     "iopub.status.idle": "2025-04-26T20:52:37.238043Z",
     "shell.execute_reply": "2025-04-26T20:52:37.236914Z",
     "shell.execute_reply.started": "2025-04-26T20:41:28.789607Z"
    },
    "trusted": true
   },
   "outputs": [],
   "source": [
    "model = FoundationModelClassifier(backbone_foundation_model)\n",
    "model = load_cpt(model)\n",
    "model.to(DEVICE)\n",
    "\n",
    "if TRAIN:\n",
    "    criterion = nn.BCELoss()\n",
    "    \n",
    "    optimizer = optim.Adam(model.parameters(), lr=LEARNING_RATE)\n",
    "    \n",
    "    scheduler = lr_scheduler.StepLR(optimizer, step_size=len(train_dataset) // BATCH_SIZE, gamma=0.5)\n",
    "    train(model, train_loader, optimizer, criterion, scheduler)\n",
    "\n",
    "if TEST:\n",
    "    model.eval()\n",
    "    validate(model, test_loaders, visualise_curves=VISUALISE_CURVES)\n"
   ]
  }
 ],
 "metadata": {
  "kaggle": {
   "accelerator": "gpu",
   "dataSources": [
    {
     "datasetId": 6734001,
     "sourceId": 10843134,
     "sourceType": "datasetVersion"
    },
    {
     "datasetId": 6920072,
     "sourceId": 11100872,
     "sourceType": "datasetVersion"
    },
    {
     "datasetId": 7072335,
     "sourceId": 11308424,
     "sourceType": "datasetVersion"
    },
    {
     "datasetId": 7077396,
     "sourceId": 11314929,
     "sourceType": "datasetVersion"
    },
    {
     "datasetId": 7077865,
     "sourceId": 11315571,
     "sourceType": "datasetVersion"
    },
    {
     "datasetId": 7134469,
     "sourceId": 11392101,
     "sourceType": "datasetVersion"
    },
    {
     "datasetId": 7134623,
     "sourceId": 11392319,
     "sourceType": "datasetVersion"
    },
    {
     "datasetId": 7134935,
     "sourceId": 11392751,
     "sourceType": "datasetVersion"
    },
    {
     "datasetId": 7134998,
     "sourceId": 11392835,
     "sourceType": "datasetVersion"
    },
    {
     "datasetId": 7135024,
     "sourceId": 11392869,
     "sourceType": "datasetVersion"
    },
    {
     "datasetId": 7138651,
     "sourceId": 11398184,
     "sourceType": "datasetVersion"
    },
    {
     "datasetId": 7145191,
     "sourceId": 11406767,
     "sourceType": "datasetVersion"
    },
    {
     "datasetId": 7179462,
     "sourceId": 11458143,
     "sourceType": "datasetVersion"
    },
    {
     "isSourceIdPinned": false,
     "modelId": 248954,
     "modelInstanceId": 227177,
     "sourceId": 265547,
     "sourceType": "modelInstanceVersion"
    },
    {
     "isSourceIdPinned": true,
     "modelId": 305069,
     "modelInstanceId": 284227,
     "sourceId": 339899,
     "sourceType": "modelInstanceVersion"
    },
    {
     "isSourceIdPinned": true,
     "modelId": 305070,
     "modelInstanceId": 284228,
     "sourceId": 339900,
     "sourceType": "modelInstanceVersion"
    }
   ],
   "isGpuEnabled": true,
   "isInternetEnabled": true,
   "language": "python",
   "sourceType": "notebook"
  },
  "kernelspec": {
   "display_name": "main",
   "language": "python",
   "name": "python3"
  },
  "language_info": {
   "codemirror_mode": {
    "name": "ipython",
    "version": 3
   },
   "file_extension": ".py",
   "mimetype": "text/x-python",
   "name": "python",
   "nbconvert_exporter": "python",
   "pygments_lexer": "ipython3",
   "version": "3.11.10"
  }
 },
 "nbformat": 4,
 "nbformat_minor": 4
}
